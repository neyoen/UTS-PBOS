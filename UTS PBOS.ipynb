{
 "cells": [
  {
   "cell_type": "code",
   "execution_count": 107,
   "id": "9b3ef4c7",
   "metadata": {},
   "outputs": [
    {
     "name": "stdout",
     "output_type": "stream",
     "text": [
      "             RIWAYAT HIDUP (Curriculum Vitae)\n",
      "Nama                       :   Arion Camara\n",
      "Pendidikan Formal          : - TK SD Bruder Kanisius\n",
      "                             - SD Bruder Kanisius\n",
      "                             - SMP Santo Fransiskus Asisi\n",
      "                             - SMA Santo Fransiskus Asisi\n",
      "Pendidikan Non-Formal      : - Les Bahasa Inggris\n",
      "Pernah ikut Organisasi     : - Organisasi Siswa Intra Sekolah\n",
      "Prestasi                   : - Ranking 4 pada kelas 1 SMP\n"
     ]
    }
   ],
   "source": [
    "nama = \" Arion Camara\"\n",
    "pendidikan= \"\"\"- TK SD Bruder Kanisius\n",
    "                             - SD Bruder Kanisius\n",
    "                             - SMP Santo Fransiskus Asisi\n",
    "                             - SMA Santo Fransiskus Asisi\"\"\"\n",
    "nonformal= \"- Les Bahasa Inggris\"\n",
    "organisasi = \"- Organisasi Siswa Intra Sekolah\"\n",
    "prestasi = \"- Ranking 4 pada kelas 1 SMP\"\n",
    "\n",
    "print(\"             RIWAYAT HIDUP (Curriculum Vitae)\")\n",
    "print(\"Nama                       : \", nama)\n",
    "print(\"Pendidikan Formal          :\", pendidikan)\n",
    "print(\"Pendidikan Non-Formal      :\", nonformal)\n",
    "print(\"Pernah ikut Organisasi     :\", organisasi)\n",
    "print(\"Prestasi                   :\", prestasi)"
   ]
  },
  {
   "cell_type": "code",
   "execution_count": 70,
   "id": "b552f8bc",
   "metadata": {},
   "outputs": [
    {
     "name": "stdout",
     "output_type": "stream",
     "text": [
      "---APLIKASI MENGHITUNG LUAS PERSEGI PANJANG---\n",
      "Berapa Panjang Persegi Panjang: 30\n",
      "Berapa Lebar Persegi Panjang: 30\n",
      "Luas Persegi Panjang : 900\n"
     ]
    }
   ],
   "source": [
    "print(\"---APLIKASI MENGHITUNG LUAS PERSEGI PANJANG---\")\n",
    "\n",
    "panjang = int(input(\"Berapa Panjang Persegi Panjang: \"))\n",
    "lebar = int(input(\"Berapa Lebar Persegi Panjang: \"))\n",
    "print(\"Luas Persegi Panjang :\", panjang * lebar)"
   ]
  },
  {
   "cell_type": "code",
   "execution_count": 71,
   "id": "794c2940",
   "metadata": {},
   "outputs": [
    {
     "name": "stdout",
     "output_type": "stream",
     "text": [
      "---APLIKASI MENGHITUNG KONVERSI CELCIUS, REAMUR DAN FAHRENHEIT---\n",
      "Isikan suhu Celcius: 30\n",
      "Isikan suhu Reamur: 30\n",
      "Isikan suhu Fahrenheit: 30\n",
      "Untuk Celcius =  30 Reamurnya adalah: 24.0 dan Fahrenheitnya:  86.0\n",
      "Untuk Reamur =  30 Celciusnya adalah: 37.5 dan Fahrenheitnya:  99.5\n",
      "Untuk Fahrenheit =  30 Celcius adalah: -1.1111111111111112 dan Reamurnya:  -0.8888888888888888\n"
     ]
    }
   ],
   "source": [
    "print(\"---APLIKASI MENGHITUNG KONVERSI CELCIUS, REAMUR DAN FAHRENHEIT---\")\n",
    "\n",
    "celcius = int(input(\"Isikan suhu Celcius: \"))\n",
    "reamur = int(input(\"Isikan suhu Reamur: \"))\n",
    "fahrenheit = int(input(\"Isikan suhu Fahrenheit: \"))\n",
    "\n",
    "reamur1 = (4/5) * celcius\n",
    "fahrenheit1 = (9/5) * celcius + 32\n",
    "\n",
    "celcius1 = (5/4) * reamur\n",
    "fahrenheit2 = (9/4) * reamur + 32\n",
    "\n",
    "celcius2 = (5/9) * (fahrenheit - 32)\n",
    "reamur2 = (4/9) * (fahrenheit - 32)\n",
    "\n",
    "print(\"Untuk Celcius = \", celcius, \"Reamurnya adalah:\", reamur1, \"dan Fahrenheitnya: \", fahrenheit1)\n",
    "print(\"Untuk Reamur = \", reamur, \"Celciusnya adalah:\", celcius1, \"dan Fahrenheitnya: \", fahrenheit2)\n",
    "print(\"Untuk Fahrenheit = \", fahrenheit, \"Celcius adalah:\", celcius2, \"dan Reamurnya: \", reamur2)"
   ]
  },
  {
   "cell_type": "code",
   "execution_count": 67,
   "id": "2f107118",
   "metadata": {},
   "outputs": [
    {
     "name": "stdout",
     "output_type": "stream",
     "text": [
      "---APLIKASI MENGHITUNG KONVERSI DETIK, MENIT, JAM---\n",
      "Masukkan Detik yang ingin dihitung: 3600\n",
      "Masukkan Menit yang ingin dihitung: 60\n",
      "Masukkan Jam yang ingin dihitung: 1\n",
      "Dari Detik : 3600 diperoleh Menit : 60.0 dan Jam : 1.0\n",
      "Dari Menit : 60 diperoleh Detik : 3600 dan Jam : 1.0\n",
      "Dari Jam : 1 diperoleh Menit : 60 dan Detik : 3600\n"
     ]
    }
   ],
   "source": [
    "print(\"---APLIKASI MENGHITUNG KONVERSI DETIK, MENIT, JAM---\")\n",
    "\n",
    "detik = int(input(\"Masukkan Detik yang ingin dihitung: \"))\n",
    "menit = int(input(\"Masukkan Menit yang ingin dihitung: \"))\n",
    "jam = int(input(\"Masukkan Jam yang ingin dihitung: \"))\n",
    "\n",
    "menit1 = detik / 60\n",
    "jam1 = menit / 60\n",
    "\n",
    "detik1 = menit * 60\n",
    "jam2 = menit / 60\n",
    "\n",
    "menit2 = jam * 60\n",
    "detik2 = menit2 * 60\n",
    "\n",
    "print(\"Dari Detik :\", detik, \"diperoleh Menit :\", menit1, \"dan Jam :\", jam1)\n",
    "print(\"Dari Menit :\", menit, \"diperoleh Detik :\", detik1, \"dan Jam :\", jam2)\n",
    "print(\"Dari Jam :\", jam, \"diperoleh Menit :\", menit2, \"dan Detik :\", detik2)"
   ]
  },
  {
   "cell_type": "code",
   "execution_count": 68,
   "id": "bbb602cb",
   "metadata": {},
   "outputs": [
    {
     "name": "stdout",
     "output_type": "stream",
     "text": [
      "---APLIKASI MENGHITUNG LUAS LINGKARAN---\n",
      "Masukkan Diameter Lingkaran: 60\n",
      "Dari Diameter Lingkaran : 60 didapat jari-jarinya : 30.0 sehingga Luas Lingkarannya : 2826.0\n"
     ]
    }
   ],
   "source": [
    "print(\"---APLIKASI MENGHITUNG LUAS LINGKARAN---\")\n",
    "\n",
    "diameter = int(input(\"Masukkan Diameter Lingkaran: \"))\n",
    "\n",
    "jariJari = diameter / 2\n",
    "\n",
    "luas = (float(3.14 * (jariJari * jariJari)))\n",
    "\n",
    "print(\"Dari Diameter Lingkaran :\", diameter, \"didapat jari-jarinya :\", jariJari, \"sehingga Luas Lingkarannya :\", luas)"
   ]
  }
 ],
 "metadata": {
  "kernelspec": {
   "display_name": "Python 3",
   "language": "python",
   "name": "python3"
  },
  "language_info": {
   "codemirror_mode": {
    "name": "ipython",
    "version": 3
   },
   "file_extension": ".py",
   "mimetype": "text/x-python",
   "name": "python",
   "nbconvert_exporter": "python",
   "pygments_lexer": "ipython3",
   "version": "3.8.8"
  }
 },
 "nbformat": 4,
 "nbformat_minor": 5
}
